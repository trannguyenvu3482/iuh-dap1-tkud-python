{
 "cells": [
  {
   "cell_type": "markdown",
   "metadata": {},
   "source": [
    "## Task 1: Write a python program to sum all the items in a list"
   ]
  },
  {
   "cell_type": "code",
   "execution_count": 1,
   "metadata": {},
   "outputs": [
    {
     "name": "stdout",
     "output_type": "stream",
     "text": [
      "Tong cac phan tu trong list la:  15\n"
     ]
    }
   ],
   "source": [
    "myList = []\n",
    "n = int(input(\"Nhap vao so phan tu: \"))\n",
    "\n",
    "for i in range(n):\n",
    "    myList.append(int(input(\"Nhap vao phan tu thu %d: \" % (i + 1))))\n",
    "\n",
    "print(\"Tong cac phan tu trong list la: \", sum(myList))"
   ]
  },
  {
   "cell_type": "code",
   "execution_count": null,
   "metadata": {},
   "outputs": [],
   "source": [
    "## Task 2: Write a Python program to multiply all the items in a list."
   ]
  },
  {
   "cell_type": "code",
   "execution_count": 2,
   "metadata": {},
   "outputs": [
    {
     "name": "stdout",
     "output_type": "stream",
     "text": [
      "Tich cac phan tu trong list la:  60\n"
     ]
    }
   ],
   "source": [
    "myList = []\n",
    "n = int(input(\"Nhap vao so phan tu: \"))\n",
    "\n",
    "for i in range(n):\n",
    "    myList.append(int(input(\"Nhap vao phan tu thu %d: \" % (i + 1))))\n",
    "\n",
    "result = 1\n",
    "for i in myList:\n",
    "    result *= i\n",
    "\n",
    "print(\"Tich cac phan tu trong list la: \", result)"
   ]
  },
  {
   "cell_type": "markdown",
   "metadata": {},
   "source": [
    "## Task 3: Write a python program to remove duplicates from a list"
   ]
  },
  {
   "cell_type": "code",
   "execution_count": 6,
   "metadata": {},
   "outputs": [
    {
     "name": "stdout",
     "output_type": "stream",
     "text": [
      "List1 sau khi xoa cac phan tu trung lap:  [1, 3, 4, 5]\n",
      "Lis2 sau khi xoa cac phan tu trung lap:  [3, 4, 1, 5]\n",
      "List3 sau khi xoa cac phan tu trung lap:  [4, 3, 1, 5]\n"
     ]
    }
   ],
   "source": [
    "myList = []\n",
    "n = int(input(\"Nhap vao so phan tu: \"))\n",
    "\n",
    "for i in range(n):\n",
    "    myList.append(int(input(\"Nhap vao phan tu thu %d: \" % (i + 1))))\n",
    "\n",
    "# Cach 1: Dung set\n",
    "list1 = list(set(myList))\n",
    "print(\"List1 sau khi xoa cac phan tu trung lap: \", list1)\n",
    "\n",
    "# Cach 2: Dung .count()\n",
    "list2 = myList[:]\n",
    "\n",
    "for i in list2:\n",
    "    while list2.count(i) > 1:\n",
    "        list2.remove(i)\n",
    "\n",
    "print(\"List2 sau khi xoa cac phan tu trung lap: \", list2)\n",
    "\n",
    "# Cach 3: List comprehension\n",
    "list3 = []\n",
    "[list3.append(i) for i in myList if i not in list3]\n",
    "print(\"List3 sau khi xoa cac phan tu trung lap: \", list3)"
   ]
  },
  {
   "cell_type": "markdown",
   "metadata": {},
   "source": [
    "## Task 4: Write a python program to find the list of words that are longer than n from a given list of words"
   ]
  },
  {
   "cell_type": "code",
   "execution_count": 3,
   "metadata": {},
   "outputs": [
    {
     "name": "stdout",
     "output_type": "stream",
     "text": [
      "Ket qua:  ['abcd', 'abcde', 'abcaefag']\n"
     ]
    }
   ],
   "source": [
    "inp = int(input(\"Nhap vao so phan tu: \"))\n",
    "\n",
    "myList = []\n",
    "for i in range(inp):\n",
    "    myList.append(str(input(\"Nhap vao phan tu thu %d: \" % (i + 1))))\n",
    "\n",
    "n = int(input(\"Nhap vao so ki tu: \"))\n",
    "\n",
    "outputList = []\n",
    "for i in myList:\n",
    "    if len(i) > n:\n",
    "        outputList.append(i)\n",
    "\n",
    "print(\"Ket qua: \", outputList)"
   ]
  }
 ],
 "metadata": {
  "kernelspec": {
   "display_name": "Python 3",
   "language": "python",
   "name": "python3"
  },
  "language_info": {
   "codemirror_mode": {
    "name": "ipython",
    "version": 3
   },
   "file_extension": ".py",
   "mimetype": "text/x-python",
   "name": "python",
   "nbconvert_exporter": "python",
   "pygments_lexer": "ipython3",
   "version": "3.11.6"
  }
 },
 "nbformat": 4,
 "nbformat_minor": 2
}
