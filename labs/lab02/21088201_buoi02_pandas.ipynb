{
 "cells": [
  {
   "cell_type": "markdown",
   "metadata": {},
   "source": [
    "# Bai tap buoi 2 - Pandas\n",
    "## Tran Nguyen Vu - 21088201 - STT: 60"
   ]
  },
  {
   "cell_type": "markdown",
   "metadata": {},
   "source": [
    "## Pandas data series - Ex 26 to 31"
   ]
  },
  {
   "cell_type": "code",
   "execution_count": 3,
   "metadata": {},
   "outputs": [],
   "source": [
    "# Import pandas\n",
    "import pandas as pd"
   ]
  },
  {
   "cell_type": "code",
   "execution_count": 4,
   "metadata": {},
   "outputs": [
    {
     "name": "stdout",
     "output_type": "stream",
     "text": [
      "[nan, 2.0, 2.0, 3.0, 2.0, 1.0, 4.0]\n"
     ]
    }
   ],
   "source": [
    "# 26. Write a Pandas program to compute difference of differences between consecutive numbers of a given series.\n",
    "input_series = pd.Series([1.0, 3.0, 5.0, 8.0, 10.0, 11.0, 15.0])\n",
    "\n",
    "print(input_series.diff().tolist())"
   ]
  },
  {
   "cell_type": "code",
   "execution_count": 5,
   "metadata": {},
   "outputs": [
    {
     "name": "stdout",
     "output_type": "stream",
     "text": [
      "0   2010-01-01 00:00:00\n",
      "1   2011-02-02 00:00:00\n",
      "2   2012-03-03 00:00:00\n",
      "3   2013-04-04 00:00:00\n",
      "4   2014-05-05 00:00:00\n",
      "5   2015-06-06 12:20:00\n",
      "dtype: datetime64[ns]\n"
     ]
    }
   ],
   "source": [
    "# 27. Write a Pandas program to convert a series of date strings to a timeseries.\n",
    "import datetime as dt\n",
    "\n",
    "input_series = pd.Series(['01 Jan 2010', '02-02-2011', '20120303', '2013/04/04', '2014-05-05', '2015-06-06T12:20'])\n",
    "\n",
    "print(pd.to_datetime(input_series))"
   ]
  },
  {
   "cell_type": "code",
   "execution_count": 6,
   "metadata": {},
   "outputs": [
    {
     "name": "stdout",
     "output_type": "stream",
     "text": [
      "Day of month: \n",
      " [1, 2, 3, 4, 5, 6]\n",
      "Day of year: \n",
      " [1, 33, 63, 94, 125, 157]\n",
      "Week number: \n",
      " [53, 5, 9, 14, 19, 23]\n",
      "Day of week: \n",
      " [4, 2, 5, 3, 0, 5]\n"
     ]
    },
    {
     "name": "stderr",
     "output_type": "stream",
     "text": [
      "/tmp/ipykernel_8410/4088457313.py:5: FutureWarning: Series.dt.weekofyear and Series.dt.week have been deprecated. Please use Series.dt.isocalendar().week instead.\n",
      "  print(\"Week number: \\n\", pd.to_datetime(input_series).dt.weekofyear.tolist())\n"
     ]
    }
   ],
   "source": [
    "# 28. Write a Pandas program to get the day of month, day of year, week number and day of week from a given series of date strings.\n",
    "input_series = pd.Series(['01 Jan 2010', '02-02-2011', '20120303', '2013/04/04', '2014-05-05', '2015-06-06T12:20'])\n",
    "print(\"Day of month: \\n\", pd.to_datetime(input_series).dt.day.tolist())\n",
    "print(\"Day of year: \\n\", pd.to_datetime(input_series).dt.dayofyear.tolist())\n",
    "print(\"Week number: \\n\", pd.to_datetime(input_series).dt.weekofyear.tolist())\n",
    "print(\"Day of week: \\n\", pd.to_datetime(input_series).dt.dayofweek.tolist())"
   ]
  },
  {
   "cell_type": "code",
   "execution_count": 7,
   "metadata": {},
   "outputs": [
    {
     "name": "stdout",
     "output_type": "stream",
     "text": [
      "0   2015-01-11\n",
      "1   2016-02-11\n",
      "2   2017-03-11\n",
      "3   2018-04-11\n",
      "4   2019-05-11\n",
      "5   2020-06-11\n",
      "dtype: datetime64[ns]\n"
     ]
    }
   ],
   "source": [
    "# 29. Write a Pandas program to convert year-month string to dates adding a specified day of the month.\n",
    "input_series = pd.Series(['Jan 2015', 'Feb 2016', 'Mar 2017', 'Apr 2018', 'May 2019', 'Jun 2020'])\n",
    "\n",
    "print(pd.to_datetime(input_series.map(lambda x: '11 ' + x)))"
   ]
  },
  {
   "cell_type": "code",
   "execution_count": 22,
   "metadata": {},
   "outputs": [
    {
     "name": "stdout",
     "output_type": "stream",
     "text": [
      "1     Green\n",
      "2    Orange\n",
      "4    Yellow\n",
      "5     White\n",
      "dtype: object\n"
     ]
    }
   ],
   "source": [
    "# 30. Write a Pandas program to filter words from a given series that contain atleast two vowels.\n",
    "input_series = pd.Series(['Red', 'Green', 'Orange', 'Pink', 'Yellow','White'])\n",
    "\n",
    "def hasAtLeastTwoVowels(word):\n",
    "    vowels = ['a', 'e', 'i', 'o', 'u']\n",
    "    count = 0\n",
    "    for letter in word:\n",
    "        if letter in vowels:\n",
    "            count += 1\n",
    "    return count >= 2\n",
    "\n",
    "filtered_series = input_series[input_series.apply(hasAtLeastTwoVowels)]\n",
    "\n",
    "print(filtered_series)"
   ]
  },
  {
   "cell_type": "code",
   "execution_count": 23,
   "metadata": {},
   "outputs": [
    {
     "name": "stdout",
     "output_type": "stream",
     "text": [
      "Euclidean distance:  16.492422502470642\n"
     ]
    }
   ],
   "source": [
    "# 31. Write a Pandas program to compute the Euclidean distance between two given series.\n",
    "# Euclidean distance\n",
    "# From Wikipedia,\n",
    "# In mathematics, the Euclidean distance or Euclidean metric is the \"ordinary\" straight-line distance between two points in Euclidean space. With this distance, Euclidean space becomes a metric space. The associated norm is called the Euclidean norm.\n",
    "import math as m\n",
    "series_one = pd.Series([1, 2, 3, 4, 5, 6, 7, 8, 9, 10])\n",
    "series_two = pd.Series([11, 8, 7, 5, 6, 5, 3, 4, 7, 1])\n",
    "\n",
    "euclidean_distance = m.sqrt(sum((series_one - series_two)**2))\n",
    "\n",
    "print(\"Euclidean distance: \", euclidean_distance)"
   ]
  },
  {
   "cell_type": "markdown",
   "metadata": {},
   "source": [
    "## Panda dataframe - Ex 61 to 66"
   ]
  },
  {
   "cell_type": "code",
   "execution_count": 30,
   "metadata": {},
   "outputs": [
    {
     "name": "stdout",
     "output_type": "stream",
     "text": [
      "   col1  col2  col3\n",
      "5    11     0    11\n",
      "4     7     5     1\n",
      "3     4     9    12\n",
      "   col1  col2  col3\n",
      "3     4     9    12\n",
      "2     3     6     8\n",
      "1     2     5     5\n",
      "4     7     5     1\n",
      "   col1  col2  col3\n",
      "3     4     9    12\n",
      "5    11     0    11\n",
      "2     3     6     8\n"
     ]
    }
   ],
   "source": [
    "# 61. Write a Pandas program to get topmost\n",
    "# n records within each group of a DataFrame.\n",
    "\n",
    "original_df = pd.DataFrame({\n",
    "    'col1': [1, 2, 3, 4, 7, 11],\n",
    "    'col2': [4, 5, 6, 9, 5, 0],\n",
    "    'col3': [7, 5, 8, 12, 1, 11]\n",
    "})\n",
    "\n",
    "n = 3\n",
    "\n",
    "for i in range(n):\n",
    "    print(original_df.nlargest(n, f'col{i+1}', keep='all'))"
   ]
  },
  {
   "cell_type": "code",
   "execution_count": 31,
   "metadata": {},
   "outputs": [
    {
     "name": "stdout",
     "output_type": "stream",
     "text": [
      "   col1  col2  col3\n",
      "3     4     9    12\n",
      "4     7     5     1\n",
      "5    11     0    11\n"
     ]
    }
   ],
   "source": [
    "# 62. Write a Pandas program to remove first n rows of a given DataFrame.\n",
    "original_df = pd.DataFrame({\n",
    "    'col1': [1, 2, 3, 4, 7, 11],\n",
    "    'col2': [4, 5, 6, 9, 5, 0],\n",
    "    'col3': [7, 5, 8, 12, 1, 11]\n",
    "})\n",
    "\n",
    "n = 3\n",
    "\n",
    "print(original_df.iloc[n:])"
   ]
  },
  {
   "cell_type": "code",
   "execution_count": 32,
   "metadata": {},
   "outputs": [
    {
     "name": "stdout",
     "output_type": "stream",
     "text": [
      "   col1  col2  col3\n",
      "0     1     4     7\n",
      "1     2     5     5\n",
      "2     3     6     8\n"
     ]
    }
   ],
   "source": [
    "# 63. Write a Pandas program to remove last n rows of a given DataFrame.\n",
    "\n",
    "original_df = pd.DataFrame({\n",
    "    'col1': [1, 2, 3, 4, 7, 11],\n",
    "    'col2': [4, 5, 6, 9, 5, 0],\n",
    "    'col3': [7, 5, 8, 12, 1, 11]\n",
    "})\n",
    "\n",
    "n = 3\n",
    "\n",
    "print(original_df.iloc[:-n])"
   ]
  },
  {
   "cell_type": "code",
   "execution_count": 35,
   "metadata": {},
   "outputs": [
    {
     "name": "stdout",
     "output_type": "stream",
     "text": [
      "   A_W  A_X  A_Y  A_Z\n",
      "0   68   78   84   86\n",
      "1   75   85   94   97\n",
      "2   86   96   89   96\n",
      "3   80   80   83   72\n",
      "4   66   86   86   83\n",
      "   W_1  X_1  Y_1  Z_1\n",
      "0   68   78   84   86\n",
      "1   75   85   94   97\n",
      "2   86   96   89   96\n",
      "3   80   80   83   72\n",
      "4   66   86   86   83\n"
     ]
    }
   ],
   "source": [
    "# 64. Write a Pandas program to add a prefix or suffix to all columns of a given DataFrame.\n",
    "\n",
    "original_df = pd.DataFrame({\n",
    "    'W': [68, 75, 86, 80, 66],\n",
    "    'X': [78, 85, 96, 80, 86],\n",
    "    'Y': [84, 94, 89, 83, 86],\n",
    "    'Z': [86, 97, 96, 72, 83],\n",
    "})\n",
    "\n",
    "print(original_df.add_prefix('A_'))\n",
    "print(original_df.add_suffix('_1'))"
   ]
  },
  {
   "cell_type": "code",
   "execution_count": 39,
   "metadata": {},
   "outputs": [
    {
     "name": "stdout",
     "output_type": "stream",
     "text": [
      "    W   X   Y   Z\n",
      "0  66  86  86  83\n",
      "1  80  80  83  72\n",
      "2  86  96  89  96\n",
      "3  75  85  94  97\n",
      "4  68  78  84  86\n"
     ]
    }
   ],
   "source": [
    "# 65. Write a Pandas program to reverse order (rows, columns) of a given DataFrame.\n",
    "\n",
    "original_df = pd.DataFrame({\n",
    "    'W': [68, 75, 86, 80, 66],\n",
    "    'X': [78, 85, 96, 80, 86],\n",
    "    'Y': [84, 94, 89, 83, 86],\n",
    "    'Z': [86, 97, 96, 72, 83],\n",
    "})\n",
    "\n",
    "print(original_df.iloc[::-1].reset_index(drop=True))"
   ]
  },
  {
   "cell_type": "code",
   "execution_count": 45,
   "metadata": {},
   "outputs": [
    {
     "name": "stdout",
     "output_type": "stream",
     "text": [
      "    age\n",
      "0  18.5\n",
      "1  21.2\n",
      "2  22.5\n",
      "3  22.0\n",
      "4  23.0\n",
      "             name date_of_birth\n",
      "0  Alberto Franco    2002/05/17\n",
      "1    Gino Mcneill    1999/02/16\n",
      "2     Ryan Parkes    1998/09/25\n",
      "3    Eesha Hinton    2002/05/11\n",
      "4    Syed Wharton    1997/09/15\n"
     ]
    }
   ],
   "source": [
    "# 66. Write a Pandas program to select columns by data type of a given DataFrame.\n",
    "\n",
    "original_df = pd.DataFrame({\n",
    "    'name': ['Alberto Franco','Gino Mcneill','Ryan Parkes', 'Eesha Hinton', 'Syed Wharton'],\n",
    "    'date_of_birth': ['2002/05/17', '1999/02/16', '1998/09/25', '2002/05/11', '1997/09/15'],\n",
    "    'age': [18.5, 21.2, 22.5, 22.0, 23.0]\n",
    "})\n",
    "\n",
    "print(original_df.select_dtypes(include='number'))\n",
    "print(original_df.select_dtypes(include='object'))"
   ]
  },
  {
   "cell_type": "markdown",
   "metadata": {},
   "source": [
    "## Pandas indexing - Ex 6 to 11 (Unfinished)"
   ]
  },
  {
   "cell_type": "code",
   "execution_count": 49,
   "metadata": {},
   "outputs": [],
   "source": [
    "# Sample dataframe\n",
    "df = pd.DataFrame({\n",
    "    'school_code': ['s001','s002','s003','s001','s002','s004'],\n",
    "    'class': ['V', 'V', 'VI', 'VI', 'V', 'VI'],\n",
    "    'name': ['Alberto Franco','Gino Mcneill','Ryan Parkes', 'Eesha Hinton', 'Gino Mcneill', 'David Parkes'],\n",
    "    'date_Of_Birth': ['15/05/2002','17/05/2002','16/02/1999','25/09/1998','11/05/2002','15/09/1997'],\n",
    "    'weight': [35, 32, 33, 30, 31, 32],\n",
    "    'address': ['street1', 'street2', 'street3', 'street1', 'street2', 'street4'],\n",
    "    't_id':['t1', 't2', 't3', 't4', 't5', 't6']})"
   ]
  },
  {
   "cell_type": "code",
   "execution_count": 55,
   "metadata": {},
   "outputs": [
    {
     "name": "stdout",
     "output_type": "stream",
     "text": [
      "              school_code class            name  weight  address t_id\n",
      "date_Of_Birth                                                        \n",
      "15/05/2002           s001     V  Alberto Franco      35  street1   t1\n",
      "17/05/2002           s002     V    Gino Mcneill      32  street2   t2\n",
      "16/02/1999           s003    VI     Ryan Parkes      33  street3   t3\n",
      "25/09/1998           s001    VI    Eesha Hinton      30  street1   t4\n",
      "11/05/2002           s002     V    Gino Mcneill      31  street2   t5\n",
      "15/09/1997           s004    VI    David Parkes      32  street4   t6\n"
     ]
    }
   ],
   "source": [
    "# 6. Write a Pandas program to create a dataframe indexing by date and time.\n",
    "\n",
    "print(df.set_index('date_Of_Birth'))"
   ]
  },
  {
   "cell_type": "code",
   "execution_count": 60,
   "metadata": {},
   "outputs": [
    {
     "name": "stdout",
     "output_type": "stream",
     "text": [
      "      school_code class            name date_Of_Birth  weight  address t_id\n",
      "index                                                                      \n",
      "0            s001     V  Alberto Franco    15/05/2002      35  street1   t1\n",
      "1            s002     V    Gino Mcneill    17/05/2002      32  street2   t2\n",
      "2            s003    VI     Ryan Parkes    16/02/1999      33  street3   t3\n",
      "3            s001    VI    Eesha Hinton    25/09/1998      30  street1   t4\n",
      "4            s002     V    Gino Mcneill    11/05/2002      31  street2   t5\n",
      "5            s004    VI    David Parkes    15/09/1997      32  street4   t6\n"
     ]
    }
   ],
   "source": [
    "# 7. Write a Pandas program to create a dataframe and set a title or name of the index column.\n",
    "df.index.name = 'index'\n",
    "print(df)"
   ]
  },
  {
   "cell_type": "code",
   "execution_count": 61,
   "metadata": {},
   "outputs": [
    {
     "name": "stdout",
     "output_type": "stream",
     "text": [
      "      school_code class            name date_Of_Birth  weight  address t_id\n",
      "index                                                                      \n",
      "0            s001     V  Alberto Franco    15/05/2002      35  street1   t1\n",
      "1            s002     V    Gino Mcneill    17/05/2002      32  street2   t2\n",
      "2            s003    VI            John    16/02/1999      33  street3   t3\n",
      "3            s001    VI    Eesha Hinton    25/09/1998      30  street1   t4\n",
      "4            s002     V    Gino Mcneill    11/05/2002      31  street2   t5\n",
      "5            s004    VI    David Parkes    15/09/1997      32  street4   t6\n"
     ]
    }
   ],
   "source": [
    "# 8. Write a Pandas program to set value in a specific cell in a given dataframe using index.\n",
    "\n",
    "index = 2\n",
    "column = 'name'\n",
    "newValue = 'John Doe'\n",
    "\n",
    "df.at[index, column] = newValue\n",
    "\n",
    "print(df)"
   ]
  },
  {
   "cell_type": "code",
   "execution_count": 63,
   "metadata": {},
   "outputs": [
    {
     "name": "stdout",
     "output_type": "stream",
     "text": [
      "   index school_code class            name date_Of_Birth  weight  address t_id\n",
      "0      0        s001     V  Alberto Franco    15/05/2002      35  street1   t1\n",
      "1      1        s002     V    Gino Mcneill    17/05/2002      32  street2   t2\n",
      "2      2        s003    VI            John    16/02/1999      33  street3   t3\n",
      "3      3        s001    VI    Eesha Hinton    25/09/1998      30  street1   t4\n",
      "4      4        s002     V    Gino Mcneill    11/05/2002      31  street2   t5\n",
      "5      5        s004    VI    David Parkes    15/09/1997      32  street4   t6\n"
     ]
    }
   ],
   "source": [
    "# 9. Write a Pandas program to convert index of a given dataframe into a column.\n",
    "df.reset_index(level=0, inplace=True)\n",
    "\n",
    "print(df)"
   ]
  },
  {
   "cell_type": "code",
   "execution_count": null,
   "metadata": {},
   "outputs": [],
   "source": [
    "# 10. Write a Pandas program to convert 1st and 3rd levels in the index\n",
    "# into columns from a multiple level of index frame of a given dataframe.\n",
    "\n",
    "\n"
   ]
  },
  {
   "cell_type": "code",
   "execution_count": null,
   "metadata": {},
   "outputs": [],
   "source": [
    "# 11. Write a Pandas program to check if a specified value\n",
    "# exists in single and multiple column index dataframe."
   ]
  },
  {
   "cell_type": "markdown",
   "metadata": {},
   "source": [
    "## Pandas Joining and merging DataFrame - Ex 1 to 6 (Unfinished)"
   ]
  },
  {
   "cell_type": "code",
   "execution_count": 66,
   "metadata": {},
   "outputs": [],
   "source": [
    "# Import dataframes\n",
    "student_data1 = pd.DataFrame({\n",
    "    'student_id': ['S1','S2','S3','S4','S5'],\n",
    "    'name': ['Danniella Fenton', 'Ryder Storey', 'Bryce Jensen', 'Ed Bernal', 'Kwame Morin'],\n",
    "    'marks': [200, 210, 190, 222, 199]\n",
    "})\n",
    "\n",
    "student_data2 = pd.DataFrame({\n",
    "    'student_id': ['S4','S5','S6','S7','S8'],\n",
    "    'name': ['Scarlette Fisher', 'Carla Williamson', 'Dante Morse', 'Kaiser William', 'Madeeha Preston'],\n",
    "    'marks': [201, 200, 198, 219, 201]\n",
    "})"
   ]
  },
  {
   "cell_type": "code",
   "execution_count": null,
   "metadata": {},
   "outputs": [],
   "source": [
    "# 1. Write a Pandas program to join the two given dataframes along rows and assign all data.\n"
   ]
  }
 ],
 "metadata": {
  "kernelspec": {
   "display_name": "Python 3",
   "language": "python",
   "name": "python3"
  },
  "language_info": {
   "codemirror_mode": {
    "name": "ipython",
    "version": 3
   },
   "file_extension": ".py",
   "mimetype": "text/x-python",
   "name": "python",
   "nbconvert_exporter": "python",
   "pygments_lexer": "ipython3",
   "version": "3.11.6"
  }
 },
 "nbformat": 4,
 "nbformat_minor": 2
}
