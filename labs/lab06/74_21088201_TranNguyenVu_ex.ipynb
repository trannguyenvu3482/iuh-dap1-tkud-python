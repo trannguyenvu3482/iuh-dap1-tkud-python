{
 "cells": [
  {
   "cell_type": "markdown",
   "metadata": {},
   "source": [
    "# Lab 06 - Bài tập"
   ]
  },
  {
   "cell_type": "code",
   "execution_count": 1,
   "metadata": {},
   "outputs": [],
   "source": [
    "# import library\n",
    "import pandas as pd\n",
    "import numpy as np\n",
    "import scipy.stats as stats"
   ]
  },
  {
   "cell_type": "markdown",
   "metadata": {},
   "source": [
    "## <u>Bài 1</u>"
   ]
  },
  {
   "cell_type": "markdown",
   "metadata": {},
   "source": [
    "Green M&M Candies liên quan đến Dataset 18 trong file excel. Tìm tỉ lệ mẫu của M&M có màu xanh lá cây (green). Sử dụng kết quả để xây dựng 1 ước lượng khoảng tin cậy 95% của tổng thể M&M có màu xanh."
   ]
  },
  {
   "cell_type": "code",
   "execution_count": 38,
   "metadata": {},
   "outputs": [
    {
     "name": "stdout",
     "output_type": "stream",
     "text": [
      "Tỉ lệ M&M màu xanh lá: 0.19\n"
     ]
    }
   ],
   "source": [
    "mm_data = pd.read_excel('../data/xls/18_M_M.xls')\n",
    "\n",
    "# Tỉ lệ M&M màu xanh lá\n",
    "green_count = mm_data['Green'].count()\n",
    "total_count = mm_data.count().sum()\n",
    "print('Tỉ lệ M&M màu xanh lá:', green_count / total_count)"
   ]
  },
  {
   "cell_type": "code",
   "execution_count": 60,
   "metadata": {},
   "outputs": [
    {
     "name": "stdout",
     "output_type": "stream",
     "text": [
      "Episilon: 0.18908298362168643\n",
      "Ước lượng khoảng 95%: (0.0009170163783135676, 0.37908298362168646)\n"
     ]
    }
   ],
   "source": [
    "# Ước lượng khoảng 95%\n",
    "trust = 0.95\n",
    "alpha_2 = np.float64((1-trust)/2)\n",
    "\n",
    "t_alpha_2 = stats.t.ppf(1-alpha_2, green_count-1)\n",
    "z_alpha_2 = stats.norm.ppf(alpha_2)\n",
    "\n",
    "f = green_count / total_count\n",
    "epsilon = t_alpha_2 * np.sqrt(f*(1-f)/green_count)\n",
    "\n",
    "print('Episilon:', epsilon)\n",
    "print(f'Ước lượng khoảng 95%: ({f-epsilon}, {f+epsilon})')"
   ]
  },
  {
   "cell_type": "markdown",
   "metadata": {},
   "source": [
    "## <u>Bài 2</u>"
   ]
  },
  {
   "cell_type": "markdown",
   "metadata": {},
   "source": [
    "Freshman Weight Gain liên quan đến Dataset 3 trong file excel\n",
    "\n",
    "a. Dựa vào kết quả của mẫu, tìm ước lượng điểm tốt nhất của tỉ lệ phần trăm các sinh viên cao đẳng tăng cân trong năm thứ 1.\n",
    "\n",
    "b. Xây dựng ước lượng khoảng tin cậy 95% về tỉ lệ phần trăm các sinh viên cao đẳng tăng cân trong năm thứ 1.\n"
   ]
  },
  {
   "cell_type": "code",
   "execution_count": 30,
   "metadata": {},
   "outputs": [
    {
     "name": "stdout",
     "output_type": "stream",
     "text": [
      "Tỉ lệ phần trăm các sinh viên cao đẳng tăng cân trong năm thứ 1: 0.6716\n"
     ]
    }
   ],
   "source": [
    "freshman_data = pd.read_excel('../data/xls/03_FRESH15.xls')\n",
    "\n",
    "# Uớc lượng điểm tốt nhất của tỉ lệ phần trăm các sinh viên cao đẳng tăng cân trong năm thứ 1.\n",
    "gained_weight_count = len(freshman_data[freshman_data['WTAPR'] > freshman_data['WTSEP']])\n",
    "total_count = len(freshman_data)\n",
    "\n",
    "print('Tỉ lệ phần trăm các sinh viên cao đẳng tăng cân trong năm thứ 1:', round(gained_weight_count / total_count, 4))"
   ]
  },
  {
   "cell_type": "code",
   "execution_count": 32,
   "metadata": {},
   "outputs": [
    {
     "name": "stdout",
     "output_type": "stream",
     "text": [
      "Ước lượng khoảng 95%: (-1.916111668332479, 3.259395250422031)\n"
     ]
    }
   ],
   "source": [
    "# Xây dựng ước lượng khoảng tin cậy 95%\n",
    "gained_weight_std_dev = np.std(freshman_data['WTAPR'] - freshman_data['WTSEP'], ddof=1) / 3\n",
    "gained_weight_mean = gained_weight_count / total_count\n",
    "print('Ước lượng khoảng 95%:', stats.t.interval(0.95, df=total_count-1, loc=gained_weight_mean, scale=gained_weight_std_dev))"
   ]
  },
  {
   "cell_type": "markdown",
   "metadata": {},
   "source": [
    "## <u>Bài 3</u>"
   ]
  },
  {
   "cell_type": "markdown",
   "metadata": {},
   "source": [
    "Lượng mưa ở Boston: liên quan đến Dataset 14 trong file excel, và quan tâm đến các ngày với các giá trị lượng mưa khác nhau từ 0 đến các ngày có mưa có giá trị lượng mưa lớn hơn 0.\n",
    "\n",
    "- Xây dựng ước lượng khoảng tin cậy 95% cho tỉ lệ mưa trong các ngày Thứ Tư và \n",
    "- Xây dựng ước lượng khoảng tin cậy 95% cho tỉ lệ mưa trong các ngày Chủ Nhật."
   ]
  },
  {
   "cell_type": "code",
   "execution_count": null,
   "metadata": {},
   "outputs": [],
   "source": [
    "boston_data = pd.read_excel('../data/xls')"
   ]
  },
  {
   "cell_type": "markdown",
   "metadata": {},
   "source": [
    "## <u>Bài 4</u>"
   ]
  },
  {
   "cell_type": "markdown",
   "metadata": {},
   "source": [
    "Tổng số tiền phim: liên quan đến Dataset 9 trong file excel. Xây dựng ước tính khoảng thời gian tin cậy 95% của tổng số tiền trung bình cho quần thể của tất cả các phim. Giả định rằng độ lệch chuẩn của quần thể được biết là 100 triệu đô la. "
   ]
  },
  {
   "cell_type": "code",
   "execution_count": null,
   "metadata": {},
   "outputs": [],
   "source": []
  },
  {
   "cell_type": "markdown",
   "metadata": {},
   "source": [
    "## <u>Bài 5</u>"
   ]
  },
  {
   "cell_type": "markdown",
   "metadata": {},
   "source": [
    "Điểm đánh giá tín dụng FICO: liên quan đến Dataset 24 trong file excel. Xây dựng ước lượng khoảng tin cậy 99% của điểm FICO trung bình cho quần thể. Giả sử độ lệch chuẩn của quần thể là 92,2."
   ]
  },
  {
   "cell_type": "code",
   "execution_count": null,
   "metadata": {},
   "outputs": [],
   "source": []
  }
 ],
 "metadata": {
  "kernelspec": {
   "display_name": "Python 3",
   "language": "python",
   "name": "python3"
  },
  "language_info": {
   "codemirror_mode": {
    "name": "ipython",
    "version": 3
   },
   "file_extension": ".py",
   "mimetype": "text/x-python",
   "name": "python",
   "nbconvert_exporter": "python",
   "pygments_lexer": "ipython3",
   "version": "3.11.5"
  }
 },
 "nbformat": 4,
 "nbformat_minor": 2
}
