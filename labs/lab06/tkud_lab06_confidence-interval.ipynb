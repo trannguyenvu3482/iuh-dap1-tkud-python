{
 "cells": [
  {
   "cell_type": "markdown",
   "metadata": {},
   "source": [
    "# Khoảng Tin Cậy\n",
    "\n",
    "Dựa trên kết quả phân phối của các đặc trưng mẫu ($\\bar{x}, f, s^2$). Trong lab này chúng ta sẽ thực hành xây dựng khoảng tin cậy cho các tham số của tổng thể với độ tin cậy cho trước"
   ]
  },
  {
   "cell_type": "markdown",
   "metadata": {},
   "source": [
    "## MỘT SỐ KẾT QUẢ\n",
    "\n"
   ]
  },
  {
   "cell_type": "markdown",
   "metadata": {},
   "source": [
    "### Khoảng tin cậy cho trung bình\n",
    "\n",
    "Bài toán: tìm khoảng ước lượng $(\\bar{x} - \\varepsilon, \\bar{x} + \\varepsilon)$ sao cho:\n",
    "\n",
    "$$P(\\bar{x} - \\varepsilon < \\mu < \\bar{x} + \\varepsilon) = 1 - \\alpha$$\n",
    "\n",
    "Với: \n",
    "- $1 - \\alpha$: độ tin cậy của ước lượng\n",
    "- $\\varepsilon$: sai số ước lượng (hay biên đội lỗi)\n",
    "\n",
    "Giá trị sai số ước lượng:\n",
    "\n",
    "- TH1: $n \\geq 30$ **biết** độ lệch chuẩn tổng thể ($\\sigma$)\n",
    "$$\\varepsilon = z_{\\alpha/2} * \\frac{\\sigma}{\\sqrt{n}}$$\n",
    "\n",
    "- TH2: $n \\geq 30$ **không biết** độ lệch chuẩn tổng thể ($\\sigma$)\n",
    "$$\\varepsilon = t^{n-1}_{\\alpha/2} * \\frac{s}{\\sqrt{n}} \\approx z_{\\alpha/2} * \\frac{s}{\\sqrt{n}}$$ \n",
    "\n",
    "- TH3: $n \\lt 30$, tổng thể có phân phối Chuẩn ($X \\sim N(\\mu_x, \\sigma_x^2$) **biết** độ lệch chuẩn tổng thể ($\\sigma$)\n",
    "$$\\varepsilon = z_{\\alpha/2} * \\frac{\\sigma}{\\sqrt{n}}$$\n",
    "\n",
    "- TH4: $n \\lt 30$, tổng thể có phân phối Chuẩn ($X \\sim N(\\mu_x, \\sigma_x^2$) **không biết** độ lệch chuẩn tổng thể ($\\sigma$)\n",
    "$$\\varepsilon = t^{n-1}_{\\alpha/2} * \\frac{s}{\\sqrt{n}}$$ "
   ]
  },
  {
   "cell_type": "markdown",
   "metadata": {},
   "source": [
    "### Khoảng tin cậy cho tỷ lệ\n",
    "\n",
    "Bài toán: tìm khoảng ước lượng $(f - \\varepsilon, f + \\varepsilon)$ sao cho:\n",
    "\n",
    "$$P(\\bar{x} - \\varepsilon < \\mu < \\bar{x} + \\varepsilon) = 1 - \\alpha$$\n",
    "\n",
    "Với mẫu lớn ($n \\geq 30$), ta có sai số ước lượng:\n",
    "$$\\varepsilon = z_{\\alpha/2} * \\sqrt{\\frac{f(1-f)}{n}}$$"
   ]
  },
  {
   "cell_type": "markdown",
   "metadata": {},
   "source": [
    "### Khoảng tin cậy cho phương sai\n",
    "\n",
    "Bài toán: tìm khoảng ước lượng $(lower, upper)$ sao cho:\n",
    "$$P(lower < \\sigma^2 < upper) = 1 - \\alpha$$\n",
    "\n",
    "Với tổng thể có phân phối Chuẩn $X \\sim N(\\mu_x, \\sigma_x^2)$, giá trị $\\mu_x$ chưa biết ta có khoảng tin cậy cho phương sai tổng thể là:\n",
    "$$\\Biggl(\\frac{(n-1)s^2}{\\chi_{1-\\frac{\\alpha}{2}}^{2, n-1}}; \\frac{(n-1)s^2}{\\chi_{\\frac{\\alpha}{2}}^{2, n-1}}\\Biggr)$$\n",
    "`\n"
   ]
  },
  {
   "cell_type": "markdown",
   "metadata": {},
   "source": [
    "## VÍ DỤ 1\n",
    "\n",
    "Khảo sát cân nặng (kg) của gà khi xuất chuồng, người ta cân một số con và có kết quả như sau:\n",
    "\n",
    "> 2.1, 1.8, 2.0, 2.3, 1.7, 1.5, 2.0, 2.2, 1.8\n",
    "\n",
    "Giả sử cân nặng của gà là biến ngẫu nhiên có phân phối chuẩn. Hãy lập khoảng tin cậy cho cân nặng trung bình của  khi xuất chuồng với độ tin cậy là 95%. Trong 2 trường hợp:\n",
    "\n",
    "a, Biết $\\sigma = 0.3$\n",
    "\n",
    "b, Không biết $\\sigma$"
   ]
  },
  {
   "cell_type": "code",
   "execution_count": 1,
   "metadata": {},
   "outputs": [],
   "source": [
    "import numpy as np\n",
    "import scipy.stats as st\n",
    "import math"
   ]
  },
  {
   "cell_type": "markdown",
   "metadata": {},
   "source": [
    "#### a. Biết $\\sigma = 0.3$ "
   ]
  },
  {
   "cell_type": "markdown",
   "metadata": {},
   "source": [
    "##### Cách 1 (tính tay)\n",
    "\n",
    "Từ mẫu đã cho ta tính được: \n",
    "\n",
    "$ \\begin{cases} n = 9 \\\\ \\bar{x} = 1.9333 \\\\ s = 0.255 \\end{cases}$\n",
    "\n",
    "a, Biết $\\sigma = 0.3$\n",
    "\n",
    "Với độ tin cậy là 95%, ta có: $z_{\\alpha / 2} = 1.96$. (Với $\\phi(z_{\\alpha / 2}) = \\frac{1}{2} - \\frac{\\alpha}{2} = \\frac{1-\\alpha}{2})$ - Tra bảng phân phối z)\n",
    "\n",
    "Sai số ước lượng là:\n",
    "$$\\epsilon = z_{\\alpha / 2}\\frac{\\sigma}{\\sqrt{n}} = 1.96\\frac{0.3}{\\sqrt{9}} = 0.196$$\n",
    "\n",
    "Vậy khoảng ước lượng cho $\\mu$ là:\n",
    "\n",
    "$$(1.9333 - 0.196; 1.9333 + 0.196) = (1.7373; 2.1293)$$"
   ]
  },
  {
   "cell_type": "markdown",
   "metadata": {},
   "source": [
    "##### Cách 2 (dùng python)"
   ]
  },
  {
   "cell_type": "code",
   "execution_count": 2,
   "metadata": {},
   "outputs": [
    {
     "name": "stdout",
     "output_type": "stream",
     "text": [
      "Các thống kê mẫu: \n",
      "Số lượng:  9\n",
      "Trung bình mẫu:  1.9333\n",
      "Độ lệch chuẩn mẫu:  0.255\n"
     ]
    }
   ],
   "source": [
    "data_ga = [2.1, 1.8, 2.0, 2.3, 1.7, 1.5, 2.0, 2.2, 1.8]\n",
    "\n",
    "sigma = 0.3\n",
    "\n",
    "n = len(data_ga)\n",
    "tb = np.mean(data_ga)\n",
    "dlc = np.std(data_ga, ddof=1)\n",
    "\n",
    "print('Các thống kê mẫu: ')\n",
    "print('Số lượng: ', n)\n",
    "print('Trung bình mẫu: ', tb.round(4))\n",
    "print('Độ lệch chuẩn mẫu: ', dlc.round(4))"
   ]
  },
  {
   "cell_type": "code",
   "execution_count": null,
   "metadata": {},
   "outputs": [
    {
     "name": "stdout",
     "output_type": "stream",
     "text": [
      "alpha/2:  0.025\n"
     ]
    }
   ],
   "source": [
    "dotincay = 0.95\n",
    "alpha_chia_2 = np.float64((1-dotincay)/2)\n",
    "print('alpha/2: ', alpha_chia_2.round(4))"
   ]
  },
  {
   "cell_type": "code",
   "execution_count": null,
   "metadata": {},
   "outputs": [
    {
     "name": "stdout",
     "output_type": "stream",
     "text": [
      "Sai số ước lượng:  0.196\n",
      "Khoảng ước lượng cho trung bình: [1.7373, 2.1293]\n"
     ]
    }
   ],
   "source": [
    "# a. Biết sigma = 0.3 --> Phân phối chuẩn tắc (z)\n",
    "saiso = (st.norm.isf(alpha_chia_2) * sigma) / math.sqrt(n)\n",
    "print('Sai số ước lượng: ', saiso.round(4))\n",
    "print('Khoảng ước lượng cho trung bình: [{}, {}]'.format((tb-saiso).round(4), (tb+saiso).round(4)))"
   ]
  },
  {
   "cell_type": "markdown",
   "metadata": {},
   "source": [
    "##### Cách 3 (dùng thư viện)"
   ]
  },
  {
   "cell_type": "markdown",
   "metadata": {},
   "source": [
    "Dựa vào việc xác định trung bình mẫu có phân phối chuẩn (dựa vào một số dữ kiện của đề bài). Ta có thể sử dụng hàm `interval()` từ thư viện scipy.stats"
   ]
  },
  {
   "cell_type": "code",
   "execution_count": null,
   "metadata": {},
   "outputs": [
    {
     "name": "stdout",
     "output_type": "stream",
     "text": [
      "Khoảng ướng lượng: \n"
     ]
    },
    {
     "data": {
      "text/plain": [
       "(1.7373369348793277, 2.1293297317873385)"
      ]
     },
     "metadata": {},
     "output_type": "display_data"
    }
   ],
   "source": [
    "dlc_trungbinh = np.float64(sigma/math.sqrt(n))\n",
    "print('Khoảng ướng lượng: ')\n",
    "st.norm.interval(0.95, loc=tb, scale=dlc_trungbinh)"
   ]
  },
  {
   "cell_type": "markdown",
   "metadata": {},
   "source": [
    "#### b. Không biết $\\sigma = 0.3$ "
   ]
  },
  {
   "cell_type": "markdown",
   "metadata": {},
   "source": [
    "Trong trường hợp này, đại lượng trung bình mẫu không có phân phối Chuẩn nữa mà có phân phối Student với số bậc tự do là n-1 = 8.\n",
    "\n"
   ]
  },
  {
   "cell_type": "code",
   "execution_count": null,
   "metadata": {},
   "outputs": [
    {
     "data": {
      "text/plain": [
       "0.08498365855987976"
      ]
     },
     "metadata": {},
     "output_type": "display_data"
    }
   ],
   "source": [
    "# Tính lại độ lệch chuẩn cho trung bình:\n",
    "dlc_trungbinh_moi = np.std(data_ga, ddof=1) / 3\n",
    "dlc_trungbinh_moi"
   ]
  },
  {
   "cell_type": "code",
   "execution_count": null,
   "metadata": {},
   "outputs": [
    {
     "name": "stdout",
     "output_type": "stream",
     "text": [
      "Khoảng ước lượng cho trung bình: \n"
     ]
    },
    {
     "data": {
      "text/plain": [
       "(1.7373606652839864, 2.12930600138268)"
      ]
     },
     "metadata": {},
     "output_type": "display_data"
    }
   ],
   "source": [
    "# Khoảng ước lượng:\n",
    "print('Khoảng ước lượng cho trung bình: ')\n",
    "st.t.interval(0.95, df=n-1, loc=tb, scale=dlc_trungbinh_moi)"
   ]
  },
  {
   "cell_type": "markdown",
   "metadata": {},
   "source": [
    "### VÍ DỤ 2\n",
    "\n",
    "Cân thử 100 quả cam, ta có bộ số liệu sau:\n",
    "\n",
    "| **Khối lượng (g)** | **Số quả** |\n",
    "| :----------------: | :--------: |\n",
    "| 32 | 2  |\n",
    "| 33 | 3  |\n",
    "| 34 | 15 |\n",
    "| 35 | 26 |\n",
    "| 36 | 28 |\n",
    "| 37 | 6  |\n",
    "| 38 | 8  |\n",
    "| 39 | 8  |\n",
    "| 40 | 4  |\n",
    "\n",
    "\n",
    "a. Hãy ước lượng khối lượng trung bình các quả cam ở độ tin cậy 95%.\n",
    "\n",
    "b. Cam có khối lượng dưới 34 g được coi là cam loại 2. Tìm khoảng ước lượng cho tỷ lệ loại 2 với độ tin cậy 90%.\n",
    "\n",
    "_Đáp án. (a) (35.539, 36.241) (b) (0.014, 0.086)_\n"
   ]
  },
  {
   "cell_type": "markdown",
   "metadata": {},
   "source": [
    "\n",
    "| | | |\n",
    "| --- | :---: | :---: |\n",
    "|**Khốilượng(g)** | 32 | 33 |\n",
    "|**Sốquả** | 2 | 3 |"
   ]
  },
  {
   "cell_type": "code",
   "execution_count": 6,
   "metadata": {},
   "outputs": [],
   "source": [
    "freq_table = [(32, 2), (33, 3), (34, 15), (35, 26), (36, 28), (37, 6), (38, 8), (39, 8), (40, 4)]\n",
    "\n",
    "data = []\n",
    "for v, f in freq_table:\n",
    "    for i in range(f):\n",
    "        data.append(v)"
   ]
  },
  {
   "cell_type": "code",
   "execution_count": 11,
   "metadata": {},
   "outputs": [
    {
     "name": "stdout",
     "output_type": "stream",
     "text": [
      "Kich thuoc mau:  100\n",
      "Trung binh mau:  35.89\n",
      "Do lech chuan mau:  1.7916\n",
      "Phuong sai mau:  3.2098\n"
     ]
    }
   ],
   "source": [
    "# Tinh toan cac so lieu thong ke tren mau\n",
    "\n",
    "# Kich thuoc mau\n",
    "n = len(data)\n",
    "\n",
    "# Tinh trung binh mau\n",
    "tb = round(np.mean(data), 4)\n",
    "\n",
    "# Tinh do lech chuan mau\n",
    "dlc = round(np.std(data, ddof=1), 4)\n",
    "\n",
    "print('Kich thuoc mau: ', n)\n",
    "print('Trung binh mau: ', tb)\n",
    "print('Do lech chuan mau: ', dlc)\n",
    "print('Phuong sai mau: ', (dlc**2).round(4))"
   ]
  },
  {
   "cell_type": "code",
   "execution_count": 12,
   "metadata": {},
   "outputs": [
    {
     "data": {
      "text/plain": [
       "(35.53450769096771, 36.245492309032294)"
      ]
     },
     "execution_count": 12,
     "metadata": {},
     "output_type": "execute_result"
    }
   ],
   "source": [
    "# Cau b: Tim khoang uoc luong cho ky vong o do tin cay 95%\n",
    "st.t.interval(0.95, df=n-1, loc=tb, scale=(dlc/math.sqrt(n)))"
   ]
  },
  {
   "cell_type": "code",
   "execution_count": 13,
   "metadata": {},
   "outputs": [
    {
     "data": {
      "text/plain": [
       "0.3555"
      ]
     },
     "execution_count": 13,
     "metadata": {},
     "output_type": "execute_result"
    }
   ],
   "source": [
    "# Cau b (tinh tay)\n",
    "# Vì ta không biết giá trị của sigma (độ lệch chuẩn quần thể), \n",
    "# vì vậy, trung bình mẫu tuân theo phân phối Student\n",
    "# Ta có: sai số ước lượng:\n",
    "epsilon = st.t.isf(0.025, df=n-1) * (dlc / math.sqrt(n))\n",
    "\n",
    "epsilon.round(4)"
   ]
  }
 ],
 "metadata": {
  "kernelspec": {
   "display_name": ".envTKUD",
   "language": "python",
   "name": "python3"
  },
  "language_info": {
   "codemirror_mode": {
    "name": "ipython",
    "version": 3
   },
   "file_extension": ".py",
   "mimetype": "text/x-python",
   "name": "python",
   "nbconvert_exporter": "python",
   "pygments_lexer": "ipython3",
   "version": "3.11.5"
  }
 },
 "nbformat": 4,
 "nbformat_minor": 2
}
