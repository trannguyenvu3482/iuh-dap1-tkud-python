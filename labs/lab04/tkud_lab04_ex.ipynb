{
 "cells": [
  {
   "cell_type": "code",
   "execution_count": 2,
   "metadata": {},
   "outputs": [],
   "source": [
    "# Import các thư viện thông dụng\n",
    "import numpy as np\n",
    "import pandas as pd\n",
    "import matplotlib.pyplot as plt\n",
    "\n",
    "# Import các distribution packages từ thư viện scipy\n",
    "from scipy.stats import binom\n",
    "from scipy.stats import poisson\n",
    "from scipy.stats import norm\n",
    "from scipy.stats import t"
   ]
  },
  {
   "cell_type": "markdown",
   "metadata": {},
   "source": [
    "## BÀI TẬP"
   ]
  },
  {
   "cell_type": "markdown",
   "metadata": {},
   "source": [
    "**Bài 01:** Một bài thi trắc nghiệm gồm 10 câu hỏi, mỗi câu có 4 phương án trả lời trong đó chỉ có một phương án đúng. Bạn hãy: \n",
    "\n",
    "a. Một sinh viên không học bài làm bài bằng cách chọn ngẫu nhiên một phương án cho mỗi câu hỏi. Bạn hãy dùng hàm random để in ra số câu đúng của bạn sinh viên trong 10 lần kiểm tra.\n",
    "\n",
    "b. Giả sử mỗi câu đúng được 4 điểm, mỗi câu sai bị trừ 2 điểm. Tính xác suất để sinh viên này được 4 điểm\n",
    "\n",
    "c. Gọi X là số câu trả lời đúng. Tính E(X) và Var(X)"
   ]
  },
  {
   "cell_type": "code",
   "execution_count": 3,
   "metadata": {},
   "outputs": [
    {
     "name": "stdout",
     "output_type": "stream",
     "text": [
      "0    4\n",
      "1    0\n",
      "2    2\n",
      "3    4\n",
      "4    2\n",
      "5    5\n",
      "6    2\n",
      "7    5\n",
      "8    2\n",
      "9    2\n",
      "Name: Số câu trả lời đúng, dtype: int64\n"
     ]
    }
   ],
   "source": [
    "# Bạn hãy dùng hàm random để in ra số câu đúng của bạn sinh viên trong 10 lần kiểm tra.\n",
    "n = 10\n",
    "p = 0.25\n",
    "size = 10\n",
    "\n",
    "bi_rand_10 = binom.rvs(n, p, size=size)\n",
    "\n",
    "print(pd.Series(bi_rand_10, name=\"Số câu trả lời đúng\"))"
   ]
  },
  {
   "cell_type": "code",
   "execution_count": 4,
   "metadata": {},
   "outputs": [
    {
     "name": "stdout",
     "output_type": "stream",
     "text": [
      "Xác suất để sinh viên này được 4 điểm là: 0.28156757354736334\n"
     ]
    }
   ],
   "source": [
    "# Giả sử mỗi câu đúng được 4 điểm, mỗi câu sai bị trừ 2 điểm. Tính xác suất để sinh viên này được 4 điểm\n",
    "p_2_correct = binom.pmf(k=2, n=10, p=0.25)\n",
    "\n",
    "print(\"Xác suất để sinh viên này được 4 điểm là:\", p_2_correct)"
   ]
  },
  {
   "cell_type": "code",
   "execution_count": 5,
   "metadata": {},
   "outputs": [
    {
     "name": "stdout",
     "output_type": "stream",
     "text": [
      "E(X) = 2.5\n",
      "Var(X) = 1.875\n"
     ]
    }
   ],
   "source": [
    "# c. Gọi X là số câu trả lời đúng. Tính E(X) và Var(X)\n",
    "E_X = binom.mean(n=10, p=0.25)\n",
    "Var_X = binom.var(n=10, p=0.25)\n",
    "\n",
    "print(\"E(X) =\", E_X)\n",
    "print(\"Var(X) =\", Var_X)"
   ]
  },
  {
   "cell_type": "markdown",
   "metadata": {},
   "source": [
    "**Bài 02:** Một trung tâm bưu điện nhận được 3 cuộc gọi điện thoại mỗi phút. Tính xác suất để trung tâm nhận được 1 cuộc gọi, 2 cuộc gọi, 3 cuộc gọi trong vòng một phút biết số cuộc gọi trong một phút có phân phối Poisson."
   ]
  },
  {
   "cell_type": "code",
   "execution_count": 6,
   "metadata": {},
   "outputs": [
    {
     "name": "stdout",
     "output_type": "stream",
     "text": [
      "Xác suất để có 1 cuộc gọi trong 1 phút là: 0.14936120510359185\n",
      "Xác suất để có 2 cuộc gọi trong 1 phút là: 0.22404180765538775\n",
      "Xác suất để có 3 cuộc gọi trong 1 phút là: 0.22404180765538775\n"
     ]
    }
   ],
   "source": [
    "lamda = 3 # lamda là số cuộc gọi trung bình trong 1 phút\n",
    "\n",
    "calls_pmf_1 = poisson.pmf(k=1, mu=lamda)\n",
    "calls_pmf_2 = poisson.pmf(k=2, mu=lamda)\n",
    "calls_pmf_3 = poisson.pmf(k=3, mu=lamda)\n",
    "\n",
    "print(\"Xác suất để có 1 cuộc gọi trong 1 phút là:\", calls_pmf_1)\n",
    "print(\"Xác suất để có 2 cuộc gọi trong 1 phút là:\", calls_pmf_2)\n",
    "print(\"Xác suất để có 3 cuộc gọi trong 1 phút là:\", calls_pmf_3)"
   ]
  },
  {
   "cell_type": "markdown",
   "metadata": {},
   "source": [
    "**Bài 03:** Trọng lượng (đơn vị gam) của một loại trái cây có phân phối chuẩn với µ = 500 (gam) gam và $σ^2 = 16 (gam^2)$. Trái cây thu hoạch được phân loại theo trọng lượng như sau:\n",
    "\n",
    "Loại 1: trên 505 gam\n",
    "\n",
    "Loại 2: từ 495 – 505 gam\n",
    "\n",
    "Loại 3: dười 495 gam\n",
    "\n",
    "a. Hãy tính tỷ lệ của mỗi loại.\n",
    "\n",
    "b. Bạn hãy mô phỏng lấy mẫu  20 trái cây trên. Bạn hãy vẽ histogram trọng lượng trái cây và tính giá trị trung bình và độ lệch chuẩn trái cây từ mẫu\n",
    "\n",
    "c. Bạn hãy mô phỏng lấy 100 trái cây trên. Bạn hãy vẽ histogram trọng lượng trái cây và tính giá trị trung bình và độ lệch chuẩn trái cây từ mẫu\n",
    "\n",
    "d. Từ hai cách lấy mẫu ở câu b, c bạn có nhận xét gì không?"
   ]
  },
  {
   "cell_type": "code",
   "execution_count": 7,
   "metadata": {},
   "outputs": [],
   "source": [
    "mu = 500\n",
    "sigma = 4"
   ]
  },
  {
   "cell_type": "code",
   "execution_count": 8,
   "metadata": {},
   "outputs": [
    {
     "name": "stdout",
     "output_type": "stream",
     "text": [
      "Tỉ lệ loại 1: 0.10564977366685535\n",
      "Tỉ lệ loại 2: 0.7887004526662893\n",
      "Tỉ lệ loại 3: 0.0\n"
     ]
    }
   ],
   "source": [
    "# Tỉ lệ của mỗi loại\n",
    "xs_1 = 1 - norm.cdf(x=505, loc=mu, scale=sigma) # loc = mean = mu, scale = standard deviation = sigma\n",
    "xs_2 = norm.cdf(x=505, loc=mu, scale=sigma) - norm.cdf(x=495, loc=mu, scale=sigma)\n",
    "xs_3 = norm.cdf(x=-495, loc=mu, scale=sigma)\n",
    "\n",
    "print(\"Tỉ lệ loại 1:\", xs_1)\n",
    "print(\"Tỉ lệ loại 2:\", xs_2)\n",
    "print(\"Tỉ lệ loại 3:\", xs_3)"
   ]
  },
  {
   "cell_type": "markdown",
   "metadata": {},
   "source": [
    "**Bài 04:** Mô phỏng tung một con xúc sắc cân đối đồng chất 5000 lần. Dựa vào giá trị mô phỏng, bạn hãy tìm các giá trị xác suất dưới đây:\n",
    "\n",
    "a. Xác suất để  số chấm xuất hiện là 4\n",
    "\n",
    "b. Xác suất để số chấm xuất hiện lớn hơn hoặc bằng 4\n",
    "\n",
    "c. Giả sử biết số chấm xuất hiện lớn hơn hoặc bằng 4. Hãy tìm xác suất để mặt 6 chấm xuất hiện."
   ]
  },
  {
   "cell_type": "code",
   "execution_count": 9,
   "metadata": {},
   "outputs": [],
   "source": [
    "# Tạo sample\n",
    "dice_5k_sample = np.random.randint(1, 7, 5000)"
   ]
  },
  {
   "cell_type": "code",
   "execution_count": 10,
   "metadata": {},
   "outputs": [
    {
     "name": "stdout",
     "output_type": "stream",
     "text": [
      "Xác suất để có mặt 4: 0.1596\n",
      "Xác suất để có mặt >= 4: 0.4954\n",
      "Xác suất để có mặt 6 khi đã có xác suất mặt 4 hoặc lớn hơn: 0.3358901897456601\n"
     ]
    }
   ],
   "source": [
    "# Xác suất để có mặt 4\n",
    "p_4 = np.mean(dice_5k_sample == 4)\n",
    "p_geq_4 = np.mean(dice_5k_sample >= 4)\n",
    "\n",
    "dice_geq_4 = dice_5k_sample[dice_5k_sample >= 4]\n",
    "p_6_given_geq_4 = np.mean(dice_geq_4 == 6)\n",
    "\n",
    "print(\"Xác suất để có mặt 4:\", p_4)\n",
    "print(\"Xác suất để có mặt >= 4:\", p_geq_4)\n",
    "print(\"Xác suất để có mặt 6 khi đã có xác suất mặt 4 hoặc lớn hơn:\", p_6_given_geq_4)"
   ]
  },
  {
   "cell_type": "markdown",
   "metadata": {},
   "source": [
    "**Bài 05:** Tạo 5000 số ngẫu nhiên có phân phối nhị thức với n=50, p=0.7 Bạn Hãy\n",
    "\n",
    "a. Tìm các giá trị thống kê: min, max, Q1, Q2, Q3\n",
    "\n",
    "b. Vẽ đồ thị boxplot\n",
    "\n",
    "c. Vẽ các đồ thị: tần số, tần suất"
   ]
  },
  {
   "cell_type": "code",
   "execution_count": 11,
   "metadata": {},
   "outputs": [
    {
     "name": "stdout",
     "output_type": "stream",
     "text": [
      "Min: 22\n",
      "Max: 46\n",
      "Q1: 33.0\n",
      "Q2: 35.0\n",
      "Q3: 37.0\n"
     ]
    }
   ],
   "source": [
    "# Tạo sample\n",
    "num_bi_5k = binom.rvs(n=50, p=0.7, size=5000)\n",
    "\n",
    "print(\"Min:\", np.min(num_bi_5k))\n",
    "print(\"Max:\", np.max(num_bi_5k))\n",
    "print(\"Q1:\", np.percentile(num_bi_5k, 25))\n",
    "print(\"Q2:\", np.median(num_bi_5k))\n",
    "print(\"Q3:\", np.percentile(num_bi_5k, 75))"
   ]
  },
  {
   "cell_type": "code",
   "execution_count": 12,
   "metadata": {},
   "outputs": [
    {
     "data": {
      "text/plain": [
       "{'whiskers': [<matplotlib.lines.Line2D at 0x1a8abbfd050>,\n",
       "  <matplotlib.lines.Line2D at 0x1a8abbfde10>],\n",
       " 'caps': [<matplotlib.lines.Line2D at 0x1a8abbfe850>,\n",
       "  <matplotlib.lines.Line2D at 0x1a8abbff450>],\n",
       " 'boxes': [<matplotlib.lines.Line2D at 0x1a8abb6c3d0>],\n",
       " 'medians': [<matplotlib.lines.Line2D at 0x1a8abbffed0>],\n",
       " 'fliers': [<matplotlib.lines.Line2D at 0x1a8abc14a50>],\n",
       " 'means': []}"
      ]
     },
     "execution_count": 12,
     "metadata": {},
     "output_type": "execute_result"
    },
    {
     "data": {
      "image/png": "[encoded data removed]",
      "text/plain": [
       "<Figure size 640x480 with 1 Axes>"
      ]
     },
     "metadata": {},
     "output_type": "display_data"
    }
   ],
   "source": [
    "# Vẽ boxplot\n",
    "plt.boxplot(num_bi_5k)"
   ]
  },
  {
   "cell_type": "code",
   "execution_count": 14,
   "metadata": {},
   "outputs": [
    {
     "data": {
      "text/plain": [
       "(array([   2.,    3.,    2.,   11.,   28.,  171.,  178.,  302.,  381.,\n",
       "         511., 1173.,  619.,  519.,  405.,  284.,  313.,   64.,   25.,\n",
       "           6.,    3.]),\n",
       " array([22. , 23.2, 24.4, 25.6, 26.8, 28. , 29.2, 30.4, 31.6, 32.8, 34. ,\n",
       "        35.2, 36.4, 37.6, 38.8, 40. , 41.2, 42.4, 43.6, 44.8, 46. ]),\n",
       " <BarContainer object of 20 artists>)"
      ]
     },
     "execution_count": 14,
     "metadata": {},
     "output_type": "execute_result"
    },
    {
     "data": {
      "image/png": "[encoded data removed]",
      "text/plain": [
       "<Figure size 640x480 with 1 Axes>"
      ]
     },
     "metadata": {},
     "output_type": "display_data"
    }
   ],
   "source": [
    "# Vẽ histogram\n",
    "plt.hist(num_bi_5k, bins=20, alpha=0.7, edgecolor='black')"
   ]
  }
 ],
 "metadata": {
  "kernelspec": {
   "display_name": "Python 3 (ipykernel)",
   "language": "python",
   "name": "python3"
  },
  "language_info": {
   "codemirror_mode": {
    "name": "ipython",
    "version": 3
   },
   "file_extension": ".py",
   "mimetype": "text/x-python",
   "name": "python",
   "nbconvert_exporter": "python",
   "pygments_lexer": "ipython3",
   "version": "3.11.5"
  }
 },
 "nbformat": 4,
 "nbformat_minor": 4
}
