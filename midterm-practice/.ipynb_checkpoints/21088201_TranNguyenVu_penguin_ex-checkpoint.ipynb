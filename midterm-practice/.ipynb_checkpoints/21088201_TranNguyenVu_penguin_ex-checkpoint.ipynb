{
 "cells": [
  {
   "cell_type": "markdown",
   "metadata": {},
   "source": [
    "# Penguin Data\n",
    "## Midterm Practice"
   ]
  },
  {
   "cell_type": "code",
   "execution_count": 65,
   "metadata": {},
   "outputs": [],
   "source": [
    "import pandas as pd\n",
    "import numpy as np\n",
    "import matplotlib.pyplot as plt\n",
    "import seaborn as sns"
   ]
  },
  {
   "cell_type": "code",
   "execution_count": 66,
   "metadata": {},
   "outputs": [
    {
     "data": {
      "text/html": [
       "<div>\n",
       "<style scoped>\n",
       "    .dataframe tbody tr th:only-of-type {\n",
       "        vertical-align: middle;\n",
       "    }\n",
       "\n",
       "    .dataframe tbody tr th {\n",
       "        vertical-align: top;\n",
       "    }\n",
       "\n",
       "    .dataframe thead th {\n",
       "        text-align: right;\n",
       "    }\n",
       "</style>\n",
       "<table border=\"1\" class=\"dataframe\">\n",
       "  <thead>\n",
       "    <tr style=\"text-align: right;\">\n",
       "      <th></th>\n",
       "      <th>Unnamed: 0</th>\n",
       "      <th>species</th>\n",
       "      <th>island</th>\n",
       "      <th>bill_length_mm</th>\n",
       "      <th>bill_depth_mm</th>\n",
       "      <th>flipper_length_mm</th>\n",
       "      <th>body_mass_g</th>\n",
       "      <th>sex</th>\n",
       "    </tr>\n",
       "  </thead>\n",
       "  <tbody>\n",
       "    <tr>\n",
       "      <th>0</th>\n",
       "      <td>0</td>\n",
       "      <td>Adelie</td>\n",
       "      <td>Torgersen</td>\n",
       "      <td>39.1</td>\n",
       "      <td>18.7</td>\n",
       "      <td>181.0</td>\n",
       "      <td>3750.0</td>\n",
       "      <td>MALE</td>\n",
       "    </tr>\n",
       "    <tr>\n",
       "      <th>1</th>\n",
       "      <td>1</td>\n",
       "      <td>Adelie</td>\n",
       "      <td>Torgersen</td>\n",
       "      <td>39.5</td>\n",
       "      <td>17.4</td>\n",
       "      <td>186.0</td>\n",
       "      <td>3800.0</td>\n",
       "      <td>FEMALE</td>\n",
       "    </tr>\n",
       "    <tr>\n",
       "      <th>2</th>\n",
       "      <td>2</td>\n",
       "      <td>Adelie</td>\n",
       "      <td>Torgersen</td>\n",
       "      <td>40.3</td>\n",
       "      <td>18.0</td>\n",
       "      <td>195.0</td>\n",
       "      <td>3250.0</td>\n",
       "      <td>FEMALE</td>\n",
       "    </tr>\n",
       "    <tr>\n",
       "      <th>3</th>\n",
       "      <td>4</td>\n",
       "      <td>Adelie</td>\n",
       "      <td>Torgersen</td>\n",
       "      <td>36.7</td>\n",
       "      <td>19.3</td>\n",
       "      <td>193.0</td>\n",
       "      <td>3450.0</td>\n",
       "      <td>FEMALE</td>\n",
       "    </tr>\n",
       "    <tr>\n",
       "      <th>4</th>\n",
       "      <td>5</td>\n",
       "      <td>Adelie</td>\n",
       "      <td>Torgersen</td>\n",
       "      <td>39.3</td>\n",
       "      <td>20.6</td>\n",
       "      <td>190.0</td>\n",
       "      <td>3650.0</td>\n",
       "      <td>MALE</td>\n",
       "    </tr>\n",
       "    <tr>\n",
       "      <th>5</th>\n",
       "      <td>6</td>\n",
       "      <td>Adelie</td>\n",
       "      <td>Torgersen</td>\n",
       "      <td>38.9</td>\n",
       "      <td>17.8</td>\n",
       "      <td>181.0</td>\n",
       "      <td>3625.0</td>\n",
       "      <td>FEMALE</td>\n",
       "    </tr>\n",
       "    <tr>\n",
       "      <th>6</th>\n",
       "      <td>7</td>\n",
       "      <td>Adelie</td>\n",
       "      <td>Torgersen</td>\n",
       "      <td>39.2</td>\n",
       "      <td>19.6</td>\n",
       "      <td>195.0</td>\n",
       "      <td>4675.0</td>\n",
       "      <td>MALE</td>\n",
       "    </tr>\n",
       "    <tr>\n",
       "      <th>7</th>\n",
       "      <td>12</td>\n",
       "      <td>Adelie</td>\n",
       "      <td>Torgersen</td>\n",
       "      <td>41.1</td>\n",
       "      <td>17.6</td>\n",
       "      <td>182.0</td>\n",
       "      <td>3200.0</td>\n",
       "      <td>FEMALE</td>\n",
       "    </tr>\n",
       "    <tr>\n",
       "      <th>8</th>\n",
       "      <td>13</td>\n",
       "      <td>Adelie</td>\n",
       "      <td>Torgersen</td>\n",
       "      <td>38.6</td>\n",
       "      <td>21.2</td>\n",
       "      <td>191.0</td>\n",
       "      <td>3800.0</td>\n",
       "      <td>MALE</td>\n",
       "    </tr>\n",
       "    <tr>\n",
       "      <th>9</th>\n",
       "      <td>14</td>\n",
       "      <td>Adelie</td>\n",
       "      <td>Torgersen</td>\n",
       "      <td>34.6</td>\n",
       "      <td>21.1</td>\n",
       "      <td>198.0</td>\n",
       "      <td>4400.0</td>\n",
       "      <td>MALE</td>\n",
       "    </tr>\n",
       "  </tbody>\n",
       "</table>\n",
       "</div>"
      ],
      "text/plain": [
       "   Unnamed: 0 species     island  bill_length_mm  bill_depth_mm  \\\n",
       "0           0  Adelie  Torgersen            39.1           18.7   \n",
       "1           1  Adelie  Torgersen            39.5           17.4   \n",
       "2           2  Adelie  Torgersen            40.3           18.0   \n",
       "3           4  Adelie  Torgersen            36.7           19.3   \n",
       "4           5  Adelie  Torgersen            39.3           20.6   \n",
       "5           6  Adelie  Torgersen            38.9           17.8   \n",
       "6           7  Adelie  Torgersen            39.2           19.6   \n",
       "7          12  Adelie  Torgersen            41.1           17.6   \n",
       "8          13  Adelie  Torgersen            38.6           21.2   \n",
       "9          14  Adelie  Torgersen            34.6           21.1   \n",
       "\n",
       "   flipper_length_mm  body_mass_g     sex  \n",
       "0              181.0       3750.0    MALE  \n",
       "1              186.0       3800.0  FEMALE  \n",
       "2              195.0       3250.0  FEMALE  \n",
       "3              193.0       3450.0  FEMALE  \n",
       "4              190.0       3650.0    MALE  \n",
       "5              181.0       3625.0  FEMALE  \n",
       "6              195.0       4675.0    MALE  \n",
       "7              182.0       3200.0  FEMALE  \n",
       "8              191.0       3800.0    MALE  \n",
       "9              198.0       4400.0    MALE  "
      ]
     },
     "execution_count": 66,
     "metadata": {},
     "output_type": "execute_result"
    }
   ],
   "source": [
    "# 1.  (1 điểm) Đọc dữ liệu và hiển thị 10 dòng dữ liệu đầu tiên\n",
    "penguins_data = pd.read_csv('./data/penguins-data.csv')\n",
    "\n",
    "penguins_data.head(10)"
   ]
  },
  {
   "cell_type": "code",
   "execution_count": 67,
   "metadata": {},
   "outputs": [
    {
     "data": {
      "text/html": [
       "<div>\n",
       "<style scoped>\n",
       "    .dataframe tbody tr th:only-of-type {\n",
       "        vertical-align: middle;\n",
       "    }\n",
       "\n",
       "    .dataframe tbody tr th {\n",
       "        vertical-align: top;\n",
       "    }\n",
       "\n",
       "    .dataframe thead th {\n",
       "        text-align: right;\n",
       "    }\n",
       "</style>\n",
       "<table border=\"1\" class=\"dataframe\">\n",
       "  <thead>\n",
       "    <tr style=\"text-align: right;\">\n",
       "      <th>Loài</th>\n",
       "      <th>Adelie</th>\n",
       "      <th>Chinstrap</th>\n",
       "      <th>Gentoo</th>\n",
       "    </tr>\n",
       "  </thead>\n",
       "  <tbody>\n",
       "    <tr>\n",
       "      <th>Số lượng</th>\n",
       "      <td>146</td>\n",
       "      <td>68</td>\n",
       "      <td>119</td>\n",
       "    </tr>\n",
       "  </tbody>\n",
       "</table>\n",
       "</div>"
      ],
      "text/plain": [
       "Loài      Adelie  Chinstrap  Gentoo\n",
       "Số lượng     146         68     119"
      ]
     },
     "execution_count": 67,
     "metadata": {},
     "output_type": "execute_result"
    }
   ],
   "source": [
    "# 2.  (5 điểm) Tìm hiểu thông tin về dữ liệu:\n",
    "# a. Số lượng chim cánh cụt của mỗi loài\n",
    "penguins_data.groupby('species').size().reset_index(name='Số lượng').set_index('species').rename_axis('Loài', axis=0).transpose()"
   ]
  },
  {
   "cell_type": "code",
   "execution_count": 68,
   "metadata": {},
   "outputs": [
    {
     "data": {
      "text/html": [
       "<div>\n",
       "<style scoped>\n",
       "    .dataframe tbody tr th:only-of-type {\n",
       "        vertical-align: middle;\n",
       "    }\n",
       "\n",
       "    .dataframe tbody tr th {\n",
       "        vertical-align: top;\n",
       "    }\n",
       "\n",
       "    .dataframe thead th {\n",
       "        text-align: right;\n",
       "    }\n",
       "</style>\n",
       "<table border=\"1\" class=\"dataframe\">\n",
       "  <thead>\n",
       "    <tr style=\"text-align: right;\">\n",
       "      <th></th>\n",
       "      <th>Adelie</th>\n",
       "      <th>Chinstrap</th>\n",
       "      <th>Gentoo</th>\n",
       "    </tr>\n",
       "  </thead>\n",
       "  <tbody>\n",
       "    <tr>\n",
       "      <th>Biscoe</th>\n",
       "      <td>44</td>\n",
       "      <td>0</td>\n",
       "      <td>119</td>\n",
       "    </tr>\n",
       "    <tr>\n",
       "      <th>Dream</th>\n",
       "      <td>55</td>\n",
       "      <td>68</td>\n",
       "      <td>0</td>\n",
       "    </tr>\n",
       "    <tr>\n",
       "      <th>Torgersen</th>\n",
       "      <td>47</td>\n",
       "      <td>0</td>\n",
       "      <td>0</td>\n",
       "    </tr>\n",
       "  </tbody>\n",
       "</table>\n",
       "</div>"
      ],
      "text/plain": [
       "           Adelie  Chinstrap  Gentoo\n",
       "Biscoe         44          0     119\n",
       "Dream          55         68       0\n",
       "Torgersen      47          0       0"
      ]
     },
     "execution_count": 68,
     "metadata": {},
     "output_type": "execute_result"
    }
   ],
   "source": [
    "# b.  Số lượng mỗi loài chim cánh cụt trên mỗi đảo\n",
    "penguins_data.groupby(['species', 'island']).size().unstack().fillna(0).astype(int).rename_axis(None, axis=0).rename_axis(None, axis=1).transpose()"
   ]
  },
  {
   "cell_type": "code",
   "execution_count": 69,
   "metadata": {},
   "outputs": [
    {
     "data": {
      "text/html": [
       "<div>\n",
       "<style scoped>\n",
       "    .dataframe tbody tr th:only-of-type {\n",
       "        vertical-align: middle;\n",
       "    }\n",
       "\n",
       "    .dataframe tbody tr th {\n",
       "        vertical-align: top;\n",
       "    }\n",
       "\n",
       "    .dataframe thead th {\n",
       "        text-align: right;\n",
       "    }\n",
       "</style>\n",
       "<table border=\"1\" class=\"dataframe\">\n",
       "  <thead>\n",
       "    <tr style=\"text-align: right;\">\n",
       "      <th></th>\n",
       "      <th></th>\n",
       "      <th>mean</th>\n",
       "      <th>50%</th>\n",
       "      <th>std</th>\n",
       "    </tr>\n",
       "  </thead>\n",
       "  <tbody>\n",
       "    <tr>\n",
       "      <th rowspan=\"4\" valign=\"top\">Adelie</th>\n",
       "      <th>bill_length_mm</th>\n",
       "      <td>38.823973</td>\n",
       "      <td>38.85</td>\n",
       "      <td>2.662597</td>\n",
       "    </tr>\n",
       "    <tr>\n",
       "      <th>bill_depth_mm</th>\n",
       "      <td>18.347260</td>\n",
       "      <td>18.40</td>\n",
       "      <td>1.219338</td>\n",
       "    </tr>\n",
       "    <tr>\n",
       "      <th>flipper_length_mm</th>\n",
       "      <td>190.102740</td>\n",
       "      <td>190.00</td>\n",
       "      <td>6.521825</td>\n",
       "    </tr>\n",
       "    <tr>\n",
       "      <th>body_mass_g</th>\n",
       "      <td>3706.164384</td>\n",
       "      <td>3700.00</td>\n",
       "      <td>458.620135</td>\n",
       "    </tr>\n",
       "    <tr>\n",
       "      <th rowspan=\"4\" valign=\"top\">Gentoo</th>\n",
       "      <th>bill_length_mm</th>\n",
       "      <td>47.568067</td>\n",
       "      <td>47.40</td>\n",
       "      <td>3.106116</td>\n",
       "    </tr>\n",
       "    <tr>\n",
       "      <th>bill_depth_mm</th>\n",
       "      <td>14.996639</td>\n",
       "      <td>15.00</td>\n",
       "      <td>0.985998</td>\n",
       "    </tr>\n",
       "    <tr>\n",
       "      <th>flipper_length_mm</th>\n",
       "      <td>217.235294</td>\n",
       "      <td>216.00</td>\n",
       "      <td>6.585431</td>\n",
       "    </tr>\n",
       "    <tr>\n",
       "      <th>body_mass_g</th>\n",
       "      <td>5092.436975</td>\n",
       "      <td>5050.00</td>\n",
       "      <td>501.476154</td>\n",
       "    </tr>\n",
       "    <tr>\n",
       "      <th rowspan=\"4\" valign=\"top\">Chinstrap</th>\n",
       "      <th>bill_length_mm</th>\n",
       "      <td>48.833824</td>\n",
       "      <td>49.55</td>\n",
       "      <td>3.339256</td>\n",
       "    </tr>\n",
       "    <tr>\n",
       "      <th>bill_depth_mm</th>\n",
       "      <td>18.420588</td>\n",
       "      <td>18.45</td>\n",
       "      <td>1.135395</td>\n",
       "    </tr>\n",
       "    <tr>\n",
       "      <th>flipper_length_mm</th>\n",
       "      <td>195.823529</td>\n",
       "      <td>196.00</td>\n",
       "      <td>7.131894</td>\n",
       "    </tr>\n",
       "    <tr>\n",
       "      <th>body_mass_g</th>\n",
       "      <td>3733.088235</td>\n",
       "      <td>3700.00</td>\n",
       "      <td>384.335081</td>\n",
       "    </tr>\n",
       "  </tbody>\n",
       "</table>\n",
       "</div>"
      ],
      "text/plain": [
       "                                    mean      50%         std\n",
       "Adelie    bill_length_mm       38.823973    38.85    2.662597\n",
       "          bill_depth_mm        18.347260    18.40    1.219338\n",
       "          flipper_length_mm   190.102740   190.00    6.521825\n",
       "          body_mass_g        3706.164384  3700.00  458.620135\n",
       "Gentoo    bill_length_mm       47.568067    47.40    3.106116\n",
       "          bill_depth_mm        14.996639    15.00    0.985998\n",
       "          flipper_length_mm   217.235294   216.00    6.585431\n",
       "          body_mass_g        5092.436975  5050.00  501.476154\n",
       "Chinstrap bill_length_mm       48.833824    49.55    3.339256\n",
       "          bill_depth_mm        18.420588    18.45    1.135395\n",
       "          flipper_length_mm   195.823529   196.00    7.131894\n",
       "          body_mass_g        3733.088235  3700.00  384.335081"
      ]
     },
     "execution_count": 69,
     "metadata": {},
     "output_type": "execute_result"
    }
   ],
   "source": [
    "# c) Với mỗi loại chim cánh cụt, bạn hãy so sánh các đại lượng thống kê: giá trị \n",
    "# trung  bình,  trung  vị,  độ  lệch  chuẩn  trên  các  thuộc  tính  độ  dài  mỏ \n",
    "# (bill_leghth_mm), độ sâu mỏ (bill_depth_mm), độ dài cánh (flipper) và trọng \n",
    "# lượng (body_mass).  \n",
    "\n",
    "chinstrap_info = penguins_data[penguins_data['species'] == 'Chinstrap'][['bill_length_mm', 'bill_depth_mm', 'flipper_length_mm', 'body_mass_g']].describe().loc[['mean', '50%', 'std']]\n",
    "gentoo_info = penguins_data[penguins_data['species'] == 'Gentoo'][['bill_length_mm', 'bill_depth_mm', 'flipper_length_mm', 'body_mass_g']].describe().loc[['mean', '50%', 'std']]\n",
    "adelie_info = penguins_data[penguins_data['species'] == 'Adelie'][['bill_length_mm', 'bill_depth_mm', 'flipper_length_mm', 'body_mass_g']].describe().loc[['mean', '50%', 'std']]\n",
    "\n",
    "pd.concat([adelie_info, gentoo_info, chinstrap_info], keys=['Adelie', 'Gentoo', 'Chinstrap'], axis=1).transpose()"
   ]
  },
  {
   "cell_type": "code",
   "execution_count": 70,
   "metadata": {},
   "outputs": [
    {
     "name": "stdout",
     "output_type": "stream",
     "text": [
      "Nhận xét: \n",
      "Chim cánh cụt Adelie có kích thước nhỏ nhất với giá trị trung bình và trung vị của các thuộc tính đều nhỏ nhất.\n",
      "Chim cánh cụt Gentoo có kích thước lớn nhất với giá trị trung bình và trung vị của các thuộc tính đều lớn nhất.\n",
      "Chim cánh cụt Chinstrap có giá trị trung bình và trung vị của các thuộc tính nằm giữa giữa Adelie và Gentoo.\n"
     ]
    }
   ],
   "source": [
    "# d.  Dựa trên kết quả tính được, bạn có rút ra được nhận xét gì không? \n",
    "print('Nhận xét: ')\n",
    "print('Chim cánh cụt Adelie có kích thước nhỏ nhất với giá trị trung bình và trung vị của các thuộc tính đều nhỏ nhất.')\n",
    "print('Chim cánh cụt Gentoo có kích thước lớn nhất với giá trị trung bình và trung vị của các thuộc tính đều lớn nhất.')\n",
    "print('Chim cánh cụt Chinstrap có giá trị trung bình và trung vị của các thuộc tính nằm giữa giữa Adelie và Gentoo.')"
   ]
  },
  {
   "cell_type": "code",
   "execution_count": 71,
   "metadata": {},
   "outputs": [
    {
     "data": {
      "image/png": "[encoded data removed]",
      "text/plain": [
       "<Figure size 1000x600 with 1 Axes>"
      ]
     },
     "metadata": {},
     "output_type": "display_data"
    }
   ],
   "source": [
    "# 3.  (2 điểm) Vẽ đồ thị phù hợp thể hiện phân phối của ba loại chim cánh cụt, qua đó bạn hãy đưa ra bình luận của mình.\n",
    "\n",
    "plt.figure(figsize=(10,6))\n",
    "sns.countplot(x='island', hue='species', data=penguins_data)\n",
    "plt.title('Phân phối của ba loại chim cánh cụt')\n",
    "plt.legend(title='Loài')\n",
    "plt.show()"
   ]
  },
  {
   "cell_type": "code",
   "execution_count": 81,
   "metadata": {},
   "outputs": [
    {
     "name": "stdout",
     "output_type": "stream",
     "text": [
      "Hệ số tương quan của 2 đại lượng: 0.873\n",
      "2 đại lượng này có quan hệ tương quan dương với nhau, khi độ dài cánh càng lớn thì trọng lượng càng lớn.\n"
     ]
    },
    {
     "data": {
      "image/png": "[encoded data removed]",
      "text/plain": [
       "<Figure size 640x480 with 1 Axes>"
      ]
     },
     "metadata": {},
     "output_type": "display_data"
    }
   ],
   "source": [
    "# 4.  (2 điểm) Chọn loại đồ thị phù hợp để khảo sát mối quan hệ giữa độ dài cánh và trọng lượng của loài chim cánh cụt Gentoo: \n",
    "sns.scatterplot(x='flipper_length_mm', y='body_mass_g', data=penguins_data[penguins_data['species'] == 'Gentoo'])"
   ]
  },
  {
   "cell_type": "code",
   "execution_count": 82,
   "metadata": {},
   "outputs": [
    {
     "name": "stdout",
     "output_type": "stream",
     "text": [
      "Hệ số tương quan của 2 đại lượng: 0.873\n",
      "2 đại lượng này có quan hệ tương quan dương với nhau, khi độ dài cánh càng lớn thì trọng lượng càng lớn.\n"
     ]
    }
   ],
   "source": [
    "# a. Theo bạn hai đại lượng này có quan hệ với nhau hay không? Giải thích. \n",
    "print('Hệ số tương quan của 2 đại lượng: '+ str(round(penguins_data[['flipper_length_mm', 'body_mass_g']].corr().loc['flipper_length_mm', 'body_mass_g' ], 4)))\n",
    "print(\"2 đại lượng này có quan hệ tương quan dương với nhau, khi độ dài cánh càng lớn thì trọng lượng càng lớn.\")\n"
   ]
  },
  {
   "cell_type": "code",
   "execution_count": 93,
   "metadata": {},
   "outputs": [
    {
     "name": "stdout",
     "output_type": "stream",
     "text": [
      "Hệ số tương quan của các thuộc tính với trọng lượng của loài chim Gentoo: \n",
      "bill_depth_mm        0.722967\n",
      "flipper_length_mm    0.711305\n",
      "bill_length_mm       0.666730\n",
      "Name: body_mass_g, dtype: float64\n",
      "\n",
      "Vậy độ dài mỏ (bill_length_mm) và độ sâu mỏ (bill_depth_mm) cũng có khả năng ảnh hưởng đến trọng lượng của loài chim Gentoo.\n"
     ]
    }
   ],
   "source": [
    "# b. Ngoài độ dài cánh, theo bạn còn thuộc tính nào có khả năng ảnh hưởng đến trọng lượng của loài chim Gentoo?\n",
    "print(\"Hệ số tương quan của các thuộc tính với trọng lượng của loài chim Gentoo: \")\n",
    "print(penguins_data[penguins_data['species'] == 'Gentoo'][['bill_length_mm', 'bill_depth_mm', 'flipper_length_mm', 'body_mass_g']].corr().loc['body_mass_g'].sort_values(ascending=False)[1:])\n",
    "print(\"\\nVậy độ dài mỏ (bill_length_mm) và độ sâu mỏ (bill_depth_mm) cũng có khả năng ảnh hưởng đến trọng lượng của loài chim Gentoo.\")"
   ]
  },
  {
   "cell_type": "markdown",
   "metadata": {},
   "source": []
  }
 ],
 "metadata": {
  "kernelspec": {
   "display_name": "Python 3",
   "language": "python",
   "name": "python3"
  },
  "language_info": {
   "codemirror_mode": {
    "name": "ipython",
    "version": 3
   },
   "file_extension": ".py",
   "mimetype": "text/x-python",
   "name": "python",
   "nbconvert_exporter": "python",
   "pygments_lexer": "ipython3",
   "version": "3.11.5"
  }
 },
 "nbformat": 4,
 "nbformat_minor": 2
}
